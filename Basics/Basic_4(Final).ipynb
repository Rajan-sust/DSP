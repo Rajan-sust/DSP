{
  "nbformat": 4,
  "nbformat_minor": 0,
  "metadata": {
    "colab": {
      "name": "Basic-4(Final)",
      "provenance": []
    },
    "kernelspec": {
      "name": "python3",
      "display_name": "Python 3"
    }
  },
  "cells": [
    {
      "cell_type": "code",
      "metadata": {
        "id": "tdc9PDKWDpic",
        "colab_type": "code",
        "colab": {}
      },
      "source": [
        "import matplotlib.pyplot as plt\n",
        "import numpy as np"
      ],
      "execution_count": 0,
      "outputs": []
    },
    {
      "cell_type": "code",
      "metadata": {
        "id": "XGM8CONMEDg0",
        "colab_type": "code",
        "colab": {}
      },
      "source": [
        "n = np.arange(-5,6,1)\n"
      ],
      "execution_count": 0,
      "outputs": []
    },
    {
      "cell_type": "markdown",
      "metadata": {
        "id": "ThaGGkieE3Qn",
        "colab_type": "text"
      },
      "source": [
        "**Unit Impulse Signal**\n",
        "\n",
        "$$\n",
        "x(n) = \\left\\{\n",
        "        \\begin{array}{ll}\n",
        "            1 & \\quad n = 0 \\\\\n",
        "            0 & \\quad otherwise\n",
        "        \\end{array}\n",
        "    \\right.\n",
        "$$"
      ]
    },
    {
      "cell_type": "code",
      "metadata": {
        "id": "Q5mpSmGFERZt",
        "colab_type": "code",
        "colab": {}
      },
      "source": [
        "delta = np.array([1 if idx == 0 else 0 for idx in n])"
      ],
      "execution_count": 0,
      "outputs": []
    },
    {
      "cell_type": "markdown",
      "metadata": {
        "id": "4c7jgC7DE_kM",
        "colab_type": "text"
      },
      "source": [
        "**Unit Step Function**\n",
        "\n",
        "$$\n",
        "x(n) = \\left\\{\n",
        "        \\begin{array}{ll}\n",
        "            1 & \\quad n \\geq 0 \\\\\n",
        "            0 & \\quad n < 0\n",
        "        \\end{array}\n",
        "    \\right.\n",
        "$$"
      ]
    },
    {
      "cell_type": "code",
      "metadata": {
        "id": "1hpEwMUfER8s",
        "colab_type": "code",
        "colab": {}
      },
      "source": [
        "u = np.array([1 if idx>=0 else 0 for idx in n])"
      ],
      "execution_count": 0,
      "outputs": []
    },
    {
      "cell_type": "markdown",
      "metadata": {
        "id": "OxUF-kO1FUM-",
        "colab_type": "text"
      },
      "source": [
        "**Unit Ramp**\n",
        "\n",
        "$$\n",
        "x(n) = \\left\\{\n",
        "        \\begin{array}{ll}\n",
        "            n & \\quad n \\geq 0 \\\\\n",
        "            0 & \\quad n < 0\n",
        "        \\end{array}\n",
        "    \\right.\n",
        "$$"
      ]
    },
    {
      "cell_type": "code",
      "metadata": {
        "id": "4cwL4e7AEs0f",
        "colab_type": "code",
        "colab": {}
      },
      "source": [
        "u_r = np.array([idx if idx>=0 else 0 for idx in n])"
      ],
      "execution_count": 0,
      "outputs": []
    },
    {
      "cell_type": "markdown",
      "metadata": {
        "id": "6AQd1GoDFshv",
        "colab_type": "text"
      },
      "source": [
        "**Exponential**\n",
        "$$x(n) = a^n$$"
      ]
    },
    {
      "cell_type": "code",
      "metadata": {
        "id": "zpLJqVe0FPss",
        "colab_type": "code",
        "colab": {}
      },
      "source": [
        "exponent = np.array([pow(2.0,idx) for idx in n])"
      ],
      "execution_count": 0,
      "outputs": []
    },
    {
      "cell_type": "markdown",
      "metadata": {
        "id": "3f_fj40FHNli",
        "colab_type": "text"
      },
      "source": [
        "# Plotting Basic Signals"
      ]
    },
    {
      "cell_type": "code",
      "metadata": {
        "id": "_d22Sw49Gor2",
        "colab_type": "code",
        "colab": {
          "base_uri": "https://localhost:8080/",
          "height": 725
        },
        "outputId": "6a650b96-d298-4f0f-d824-424860653561"
      },
      "source": [
        "\n",
        "\n",
        "fig, ax = plt.subplots(nrows=2, ncols=2, figsize=(11, 11))\n",
        "fig.suptitle('4 Basic Signals', fontsize=15)\n",
        "\n",
        "ax[0, 0].stem(n, delta)\n",
        "ax[0, 0].set_title('Unit Impulse', fontsize = 15)\n",
        "\n",
        "ax[0, 1].stem(n, u)\n",
        "ax[0, 1].set_title('Unit Step', fontsize = 15)\n",
        "\n",
        "ax[1,0].stem(n, u_r)\n",
        "ax[1,0].set_title('Unit Ramp', fontsize = 15)\n",
        "\n",
        "ax[1,1].stem(n, exponent)\n",
        "ax[1,1].set_title('Exponential', fontsize = 15)\n",
        "\n",
        "plt.show()\n"
      ],
      "execution_count": 40,
      "outputs": [
        {
          "output_type": "display_data",
          "data": {
            "image/png": "[encoded data removed]",
            "text/plain": [
              "<Figure size 792x792 with 4 Axes>"
            ]
          },
          "metadata": {
            "tags": []
          }
        }
      ]
    },
    {
      "cell_type": "code",
      "metadata": {
        "id": "lvcAxHubHk5R",
        "colab_type": "code",
        "colab": {}
      },
      "source": [
        ""
      ],
      "execution_count": 0,
      "outputs": []
    }
  ]
}