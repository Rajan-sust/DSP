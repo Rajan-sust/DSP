{
  "nbformat": 4,
  "nbformat_minor": 0,
  "metadata": {
    "colab": {
      "name": "DSP_Basics_4_Updated_Final.ipynb",
      "version": "0.3.2",
      "provenance": [],
      "collapsed_sections": []
    },
    "kernelspec": {
      "name": "python3",
      "display_name": "Python 3"
    }
  },
  "cells": [
    {
      "cell_type": "code",
      "metadata": {
        "id": "rFbgTinIFrlI",
        "colab_type": "code",
        "colab": {}
      },
      "source": [
        "from scipy import signal\n",
        "import matplotlib.pyplot as plt\n",
        "import numpy as np"
      ],
      "execution_count": 0,
      "outputs": []
    },
    {
      "cell_type": "code",
      "metadata": {
        "id": "NpOfZ8EoWgYx",
        "colab_type": "code",
        "colab": {}
      },
      "source": [
        "def plot_fun(y_axis, title):\n",
        "  plt.stem(np.arange(-5, 6, 1), y_axis)\n",
        "  plt.title(title)\n",
        "  plt.xlim(-6,6)\n",
        "  plt.xlabel('(n) [samples]')\n",
        "  plt.ylabel('Amplitudes')\n",
        "  plt.show()\n",
        "  "
      ],
      "execution_count": 0,
      "outputs": []
    },
    {
      "cell_type": "markdown",
      "metadata": {
        "id": "TQex_VkgJtnq",
        "colab_type": "text"
      },
      "source": [
        "**Unit Impulse Signal**\n",
        "\n",
        "$$\n",
        "x(n) = \\left\\{\n",
        "        \\begin{array}{ll}\n",
        "            1 & \\quad n = 0 \\\\\n",
        "            0 & \\quad otherwise\n",
        "        \\end{array}\n",
        "    \\right.\n",
        "$$"
      ]
    },
    {
      "cell_type": "code",
      "metadata": {
        "id": "dpIfOUFAF39R",
        "colab_type": "code",
        "colab": {}
      },
      "source": [
        "imp = signal.unit_impulse(11, 'mid')"
      ],
      "execution_count": 0,
      "outputs": []
    },
    {
      "cell_type": "code",
      "metadata": {
        "id": "SJG8O_nvGE0X",
        "colab_type": "code",
        "outputId": "ddeca025-a304-454c-ae30-627dca3a56ca",
        "colab": {
          "base_uri": "https://localhost:8080/",
          "height": 295
        }
      },
      "source": [
        "plot_fun(imp, 'Unit impulse signal')"
      ],
      "execution_count": 0,
      "outputs": [
        {
          "output_type": "display_data",
          "data": {
            "image/png": "[encoded data removed]",
            "text/plain": [
              "<Figure size 432x288 with 1 Axes>"
            ]
          },
          "metadata": {
            "tags": []
          }
        }
      ]
    },
    {
      "cell_type": "markdown",
      "metadata": {
        "id": "kH-ryam3RUe7",
        "colab_type": "text"
      },
      "source": [
        "**Unit Step Function**\n",
        "\n",
        "$$\n",
        "x(n) = \\left\\{\n",
        "        \\begin{array}{ll}\n",
        "            1 & \\quad n \\geq 0 \\\\\n",
        "            0 & \\quad n < 0\n",
        "        \\end{array}\n",
        "    \\right.\n",
        "$$"
      ]
    },
    {
      "cell_type": "code",
      "metadata": {
        "id": "f9G230a8GMlm",
        "colab_type": "code",
        "colab": {}
      },
      "source": [
        "step = np.array([1*(idx >= 0) for idx in range(-5,6)])"
      ],
      "execution_count": 0,
      "outputs": []
    },
    {
      "cell_type": "code",
      "metadata": {
        "id": "XmYH8_4QLSPg",
        "colab_type": "code",
        "outputId": "5958b3e8-cd89-4011-fba6-eab5dace523e",
        "colab": {
          "base_uri": "https://localhost:8080/",
          "height": 295
        }
      },
      "source": [
        "plot_fun(step,'Unit step signal')"
      ],
      "execution_count": 0,
      "outputs": [
        {
          "output_type": "display_data",
          "data": {
            "image/png": "[encoded data removed]",
            "text/plain": [
              "<Figure size 432x288 with 1 Axes>"
            ]
          },
          "metadata": {
            "tags": []
          }
        }
      ]
    },
    {
      "cell_type": "markdown",
      "metadata": {
        "id": "Ww5oafwRU--v",
        "colab_type": "text"
      },
      "source": [
        "**Unit Ramp**\n",
        "\n",
        "$$\n",
        "x(n) = \\left\\{\n",
        "        \\begin{array}{ll}\n",
        "            n & \\quad n \\geq 0 \\\\\n",
        "            0 & \\quad n < 0\n",
        "        \\end{array}\n",
        "    \\right.\n",
        "$$"
      ]
    },
    {
      "cell_type": "code",
      "metadata": {
        "id": "3e20F5BnVCgi",
        "colab_type": "code",
        "colab": {}
      },
      "source": [
        "ramp = np.array([x*(x>=0) for x in range(-5,6)])"
      ],
      "execution_count": 0,
      "outputs": []
    },
    {
      "cell_type": "code",
      "metadata": {
        "id": "jO2YGJr0R_Iv",
        "colab_type": "code",
        "outputId": "85c3dd36-ce5a-4485-89bd-e74de3c0023d",
        "colab": {
          "base_uri": "https://localhost:8080/",
          "height": 295
        }
      },
      "source": [
        "plot_fun(ramp, 'Unit Ramp function')"
      ],
      "execution_count": 0,
      "outputs": [
        {
          "output_type": "display_data",
          "data": {
            "image/png": "[encoded data removed]",
            "text/plain": [
              "<Figure size 432x288 with 1 Axes>"
            ]
          },
          "metadata": {
            "tags": []
          }
        }
      ]
    },
    {
      "cell_type": "markdown",
      "metadata": {
        "id": "DFIk82O0b2ZH",
        "colab_type": "text"
      },
      "source": [
        "**Exponential**\n",
        "$$x(n) = a^n$$"
      ]
    },
    {
      "cell_type": "code",
      "metadata": {
        "id": "Gn9Vdia2Vwbo",
        "colab_type": "code",
        "colab": {}
      },
      "source": [
        "expnoent = np.array([2**(x) for x in range(-5,6)])"
      ],
      "execution_count": 0,
      "outputs": []
    },
    {
      "cell_type": "code",
      "metadata": {
        "id": "9mATkeV5cIxy",
        "colab_type": "code",
        "outputId": "2939edb4-1045-4247-c8fe-4886ab240393",
        "colab": {
          "base_uri": "https://localhost:8080/",
          "height": 295
        }
      },
      "source": [
        "plot_fun(expnoent, 'Exponential function')"
      ],
      "execution_count": 0,
      "outputs": [
        {
          "output_type": "display_data",
          "data": {
            "image/png": "[encoded data removed]",
            "text/plain": [
              "<Figure size 432x288 with 1 Axes>"
            ]
          },
          "metadata": {
            "tags": []
          }
        }
      ]
    }
  ]
}