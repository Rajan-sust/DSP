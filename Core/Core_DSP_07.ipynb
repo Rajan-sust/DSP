{
  "nbformat": 4,
  "nbformat_minor": 0,
  "metadata": {
    "colab": {
      "name": "Core DSP-07.ipynb",
      "version": "0.3.2",
      "provenance": [],
      "collapsed_sections": []
    },
    "kernelspec": {
      "name": "python3",
      "display_name": "Python 3"
    }
  },
  "cells": [
    {
      "cell_type": "markdown",
      "metadata": {
        "id": "dZl1kG6fG3aC",
        "colab_type": "text"
      },
      "source": [
        "# Task1"
      ]
    },
    {
      "cell_type": "code",
      "metadata": {
        "id": "e1xfTtpXG2iK",
        "colab_type": "code",
        "colab": {}
      },
      "source": [
        "import numpy as np\n",
        "import random\n",
        "import copy"
      ],
      "execution_count": 0,
      "outputs": []
    },
    {
      "cell_type": "code",
      "metadata": {
        "id": "YZYlaJb2MW86",
        "colab_type": "code",
        "colab": {}
      },
      "source": [
        "class DiscreteSignal:\n",
        "  \n",
        "  \n",
        "  def __init__(self, n, origin = 1):\n",
        "    origin -= 1\n",
        "    self.left_idx = 0 - origin \n",
        "    self.right_idx = n - origin - 1\n",
        "    self.x = {}\n",
        "    for key in range(-origin, n - origin):\n",
        "      self.x[key] = random.randint(1,9)\n",
        "      \n",
        "  def __repr__(self):\n",
        "    return '{}'.format(self.x)\n",
        "  \n",
        "  \n",
        "  def __add__(self, other):\n",
        "    signal_1 = copy.copy(self)\n",
        "    signal_2 = copy.copy(other)\n",
        "    for key in signal_2.x:\n",
        "      signal_1.x[key] = signal_1.x.get(key,0) + signal_2.x[key]\n",
        "    signal_1.x = dict(sorted(list(signal_1.x.items())))\n",
        "    return signal_1\n",
        "  \n",
        "  \n",
        "  def __mul__(self, other):\n",
        "    signal_1 = copy.copy(self)\n",
        "    signal_2 = copy.copy(other)\n",
        "    for key in signal_2.x:\n",
        "      signal_1.x[key] = signal_1.x.get(key, 0) * signal_2.x[key]\n",
        "    signal_1.x = dict(sorted(list(signal_1.x.items())))\n",
        "    return signal_1\n",
        "  \n",
        "  \n",
        "  def delay(self, k):\n",
        "    signal = copy.copy(self)\n",
        "    signal.x = dict([(key,signal.x.get(key-1, 0))for key, val in signal.x.items()])\n",
        "    return signal\n",
        "    \n",
        "    \n",
        "    \n",
        "  "
      ],
      "execution_count": 0,
      "outputs": []
    },
    {
      "cell_type": "markdown",
      "metadata": {
        "id": "l283Su5ms_cx",
        "colab_type": "text"
      },
      "source": [
        "# Adder\n",
        "\n"
      ]
    },
    {
      "cell_type": "code",
      "metadata": {
        "id": "V9nX6KTcJZTR",
        "colab_type": "code",
        "outputId": "d740266b-535e-48dd-e174-083857bebc17",
        "colab": {
          "base_uri": "https://localhost:8080/",
          "height": 34
        }
      },
      "source": [
        "signal_1 = DiscreteSignal(7,2)\n",
        "print(signal_1)"
      ],
      "execution_count": 48,
      "outputs": [
        {
          "output_type": "stream",
          "text": [
            "{-1: 3, 0: 3, 1: 5, 2: 1, 3: 2, 4: 6, 5: 9}\n"
          ],
          "name": "stdout"
        }
      ]
    },
    {
      "cell_type": "code",
      "metadata": {
        "id": "KGEpaODqOL5X",
        "colab_type": "code",
        "outputId": "f5163deb-7f01-4037-aa63-e5b8a71c21dd",
        "colab": {
          "base_uri": "https://localhost:8080/",
          "height": 34
        }
      },
      "source": [
        "signal_2 = DiscreteSignal(6,3)\n",
        "print(signal_2)"
      ],
      "execution_count": 49,
      "outputs": [
        {
          "output_type": "stream",
          "text": [
            "{-2: 1, -1: 7, 0: 5, 1: 8, 2: 2, 3: 5}\n"
          ],
          "name": "stdout"
        }
      ]
    },
    {
      "cell_type": "code",
      "metadata": {
        "id": "FgUyK77GnDap",
        "colab_type": "code",
        "outputId": "90d02546-36cb-4fe6-ee0c-5dd314186a9f",
        "colab": {
          "base_uri": "https://localhost:8080/",
          "height": 34
        }
      },
      "source": [
        "added_signal = signal_1 + signal_2\n",
        "print(added_signal)"
      ],
      "execution_count": 50,
      "outputs": [
        {
          "output_type": "stream",
          "text": [
            "{-2: 1, -1: 10, 0: 8, 1: 13, 2: 3, 3: 7, 4: 6, 5: 9}\n"
          ],
          "name": "stdout"
        }
      ]
    },
    {
      "cell_type": "markdown",
      "metadata": {
        "id": "wgPDSg_6vemM",
        "colab_type": "text"
      },
      "source": [
        "# Multiplier"
      ]
    },
    {
      "cell_type": "code",
      "metadata": {
        "id": "SekLIgmpsgDI",
        "colab_type": "code",
        "colab": {
          "base_uri": "https://localhost:8080/",
          "height": 34
        },
        "outputId": "409a80af-a8da-4e73-c48d-a3705a965e22"
      },
      "source": [
        "signal_1 = DiscreteSignal(7,4)\n",
        "print(signal_1)"
      ],
      "execution_count": 55,
      "outputs": [
        {
          "output_type": "stream",
          "text": [
            "{-3: 8, -2: 1, -1: 3, 0: 4, 1: 4, 2: 1, 3: 3}\n"
          ],
          "name": "stdout"
        }
      ]
    },
    {
      "cell_type": "code",
      "metadata": {
        "id": "K8VP-McmyJ52",
        "colab_type": "code",
        "colab": {
          "base_uri": "https://localhost:8080/",
          "height": 34
        },
        "outputId": "0e86f854-de77-410e-f7c9-b5138ba39dbe"
      },
      "source": [
        "signal_2 = DiscreteSignal(4,2)\n",
        "print(signal_2)"
      ],
      "execution_count": 56,
      "outputs": [
        {
          "output_type": "stream",
          "text": [
            "{-1: 9, 0: 6, 1: 8, 2: 2}\n"
          ],
          "name": "stdout"
        }
      ]
    },
    {
      "cell_type": "code",
      "metadata": {
        "id": "rG7dJ67syKC9",
        "colab_type": "code",
        "colab": {
          "base_uri": "https://localhost:8080/",
          "height": 34
        },
        "outputId": "ceb0fbba-789a-4ac1-d98c-3ff437376a0d"
      },
      "source": [
        "multiplied_signal = signal_2 * signal_1\n",
        "print(multiplied_signal)"
      ],
      "execution_count": 58,
      "outputs": [
        {
          "output_type": "stream",
          "text": [
            "{-3: 0, -2: 0, -1: 243, 0: 144, 1: 256, 2: 4, 3: 0}\n"
          ],
          "name": "stdout"
        }
      ]
    },
    {
      "cell_type": "markdown",
      "metadata": {
        "id": "1Ki9U-8b4mgC",
        "colab_type": "text"
      },
      "source": [
        "# Delay"
      ]
    },
    {
      "cell_type": "code",
      "metadata": {
        "id": "qnzvCVLIyKM7",
        "colab_type": "code",
        "colab": {
          "base_uri": "https://localhost:8080/",
          "height": 34
        },
        "outputId": "84e765af-5553-49c3-f338-787cf1eacf06"
      },
      "source": [
        "signal = DiscreteSignal(4,2)\n",
        "print(signal)"
      ],
      "execution_count": 67,
      "outputs": [
        {
          "output_type": "stream",
          "text": [
            "{-1: 3, 0: 4, 1: 6, 2: 8}\n"
          ],
          "name": "stdout"
        }
      ]
    },
    {
      "cell_type": "code",
      "metadata": {
        "id": "c-OM4g4g4lLt",
        "colab_type": "code",
        "colab": {
          "base_uri": "https://localhost:8080/",
          "height": 34
        },
        "outputId": "34ee8abd-de66-462d-a707-1e1cdb583121"
      },
      "source": [
        "print(signal.delay(1))"
      ],
      "execution_count": 71,
      "outputs": [
        {
          "output_type": "stream",
          "text": [
            "{-1: 0, 0: 3, 1: 4, 2: 6}\n"
          ],
          "name": "stdout"
        }
      ]
    },
    {
      "cell_type": "code",
      "metadata": {
        "id": "ADqag6wE682O",
        "colab_type": "code",
        "colab": {}
      },
      "source": [
        ""
      ],
      "execution_count": 0,
      "outputs": []
    }
  ]
}